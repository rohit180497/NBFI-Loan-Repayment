{
 "cells": [
  {
   "cell_type": "code",
   "execution_count": 47,
   "metadata": {},
   "outputs": [
    {
     "name": "stdout",
     "output_type": "stream",
     "text": [
      "['SQL Server', 'ODBC Driver 17 for SQL Server', 'SQL Server Native Client RDA 11.0', 'Microsoft Access Driver (*.mdb, *.accdb)', 'Microsoft Excel Driver (*.xls, *.xlsx, *.xlsm, *.xlsb)', 'Microsoft Access Text Driver (*.txt, *.csv)', 'Microsoft Access dBASE Driver (*.dbf, *.ndx, *.mdx)']\n"
     ]
    }
   ],
   "source": [
    "# Machine Learning Models\n",
    "from sklearn.linear_model import LogisticRegression, LinearRegression\n",
    "from sklearn.ensemble import RandomForestClassifier, GradientBoostingClassifier\n",
    "from sklearn.tree import DecisionTreeClassifier\n",
    "from sklearn.naive_bayes import GaussianNB\n",
    "from xgboost import XGBClassifier\n",
    "\n",
    "# Model Evaluation\n",
    "from sklearn.metrics import (accuracy_score, precision_score, recall_score, roc_auc_score, f1_score, \n",
    "confusion_matrix, ConfusionMatrixDisplay, roc_curve, precision_recall_curve, auc, classification_report)\n",
    "\n",
    "from sklearn.model_selection import cross_val_score, GridSearchCV\n",
    "import pandas as pd\n",
    "pd.set_option('display.max_rows', 100)\n",
    "pd.set_option('display.max_columns', 100)\n",
    "from sklearn.metrics import make_scorer\n",
    "from sklearn.utils import resample\n",
    "\n",
    " \n",
    "import random\n",
    "random.seed(100)\n",
    "\n",
    "import time\n",
    "import pyodbc\n",
    "print(pyodbc.drivers())\n",
    "import numpy as np\n",
    "import os\n",
    "import time\n",
    "import matplotlib.pyplot as plt\n",
    "import seaborn as sns\n",
    " \n",
    "# Data Preprocessing\n",
    "from sklearn.model_selection import train_test_split\n",
    "from sklearn.preprocessing import StandardScaler, MinMaxScaler, LabelEncoder\n",
    "\n",
    "# mlflow\n",
    "import mlflow\n",
    "import mlflow.sklearn\n",
    "from sqlalchemy import create_engine, text\n",
    "import warnings\n",
    "warnings.filterwarnings('ignore')"
   ]
  },
  {
   "cell_type": "code",
   "execution_count": 2,
   "metadata": {},
   "outputs": [
    {
     "data": {
      "text/plain": [
       "(121799, 35)"
      ]
     },
     "execution_count": 2,
     "metadata": {},
     "output_type": "execute_result"
    }
   ],
   "source": [
    "df  = pd.read_pickle('../data/interim/processed_data.pkl')\n",
    "df.shape"
   ]
  },
  {
   "cell_type": "code",
   "execution_count": 3,
   "metadata": {},
   "outputs": [
    {
     "data": {
      "text/html": [
       "<div>\n",
       "<style scoped>\n",
       "    .dataframe tbody tr th:only-of-type {\n",
       "        vertical-align: middle;\n",
       "    }\n",
       "\n",
       "    .dataframe tbody tr th {\n",
       "        vertical-align: top;\n",
       "    }\n",
       "\n",
       "    .dataframe thead th {\n",
       "        text-align: right;\n",
       "    }\n",
       "</style>\n",
       "<table border=\"1\" class=\"dataframe\">\n",
       "  <thead>\n",
       "    <tr style=\"text-align: right;\">\n",
       "      <th></th>\n",
       "      <th>Client_Income</th>\n",
       "      <th>Car_Owned</th>\n",
       "      <th>Bike_Owned</th>\n",
       "      <th>Active_Loan</th>\n",
       "      <th>House_Own</th>\n",
       "      <th>Child_Count</th>\n",
       "      <th>Credit_Amount</th>\n",
       "      <th>Loan_Annuity</th>\n",
       "      <th>Accompany_Client</th>\n",
       "      <th>Client_Income_Type</th>\n",
       "      <th>Client_Education</th>\n",
       "      <th>Client_Marital_Status</th>\n",
       "      <th>Client_Gender</th>\n",
       "      <th>Loan_Contract_Type</th>\n",
       "      <th>Client_Housing_Type</th>\n",
       "      <th>Population_Region_Relative</th>\n",
       "      <th>Age_Days</th>\n",
       "      <th>Employed_Days</th>\n",
       "      <th>Registration_Days</th>\n",
       "      <th>ID_Days</th>\n",
       "      <th>Mobile_Tag</th>\n",
       "      <th>Homephone_Tag</th>\n",
       "      <th>Workphone_Working</th>\n",
       "      <th>Client_Family_Members</th>\n",
       "      <th>Cleint_City_Rating</th>\n",
       "      <th>Application_Process_Day</th>\n",
       "      <th>Application_Process_Hour</th>\n",
       "      <th>Client_Permanent_Match_Tag</th>\n",
       "      <th>Client_Contact_Work_Tag</th>\n",
       "      <th>Score_Source_2</th>\n",
       "      <th>Score_Source_3</th>\n",
       "      <th>Phone_Change</th>\n",
       "      <th>Credit_Bureau</th>\n",
       "      <th>ID</th>\n",
       "      <th>Default</th>\n",
       "    </tr>\n",
       "  </thead>\n",
       "  <tbody>\n",
       "    <tr>\n",
       "      <th>0</th>\n",
       "      <td>20250.0</td>\n",
       "      <td>1.0</td>\n",
       "      <td>0.0</td>\n",
       "      <td>1.0</td>\n",
       "      <td>1.0</td>\n",
       "      <td>0.0</td>\n",
       "      <td>15282.000000</td>\n",
       "      <td>1826.550049</td>\n",
       "      <td>Alone</td>\n",
       "      <td>Service</td>\n",
       "      <td>Graduation</td>\n",
       "      <td>M</td>\n",
       "      <td>Male</td>\n",
       "      <td>CL</td>\n",
       "      <td>Home</td>\n",
       "      <td>0.008575</td>\n",
       "      <td>14162.0</td>\n",
       "      <td>4129.00</td>\n",
       "      <td>7833.0</td>\n",
       "      <td>21.0</td>\n",
       "      <td>1</td>\n",
       "      <td>0</td>\n",
       "      <td>1</td>\n",
       "      <td>2.0</td>\n",
       "      <td>2.0</td>\n",
       "      <td>3.0</td>\n",
       "      <td>10</td>\n",
       "      <td>Yes</td>\n",
       "      <td>Yes</td>\n",
       "      <td>0.215068</td>\n",
       "      <td>0.511202</td>\n",
       "      <td>755.0</td>\n",
       "      <td>1.0</td>\n",
       "      <td>12138936</td>\n",
       "      <td>0</td>\n",
       "    </tr>\n",
       "    <tr>\n",
       "      <th>1</th>\n",
       "      <td>13500.0</td>\n",
       "      <td>0.0</td>\n",
       "      <td>0.0</td>\n",
       "      <td>1.0</td>\n",
       "      <td>1.0</td>\n",
       "      <td>0.0</td>\n",
       "      <td>60415.199219</td>\n",
       "      <td>3097.800049</td>\n",
       "      <td>Alone</td>\n",
       "      <td>Retired</td>\n",
       "      <td>Secondary</td>\n",
       "      <td>M</td>\n",
       "      <td>Male</td>\n",
       "      <td>CL</td>\n",
       "      <td>Home</td>\n",
       "      <td>0.009175</td>\n",
       "      <td>22493.0</td>\n",
       "      <td>12020.75</td>\n",
       "      <td>12617.0</td>\n",
       "      <td>5280.0</td>\n",
       "      <td>1</td>\n",
       "      <td>0</td>\n",
       "      <td>1</td>\n",
       "      <td>2.0</td>\n",
       "      <td>2.0</td>\n",
       "      <td>4.0</td>\n",
       "      <td>15</td>\n",
       "      <td>Yes</td>\n",
       "      <td>Yes</td>\n",
       "      <td>0.657508</td>\n",
       "      <td>0.549596</td>\n",
       "      <td>1687.0</td>\n",
       "      <td>4.0</td>\n",
       "      <td>12215264</td>\n",
       "      <td>0</td>\n",
       "    </tr>\n",
       "    <tr>\n",
       "      <th>2</th>\n",
       "      <td>12150.0</td>\n",
       "      <td>0.0</td>\n",
       "      <td>0.0</td>\n",
       "      <td>0.0</td>\n",
       "      <td>1.0</td>\n",
       "      <td>0.0</td>\n",
       "      <td>16320.150391</td>\n",
       "      <td>1294.650024</td>\n",
       "      <td>Alone</td>\n",
       "      <td>Retired</td>\n",
       "      <td>Secondary</td>\n",
       "      <td>W</td>\n",
       "      <td>Male</td>\n",
       "      <td>CL</td>\n",
       "      <td>Home</td>\n",
       "      <td>0.016612</td>\n",
       "      <td>20507.0</td>\n",
       "      <td>12020.75</td>\n",
       "      <td>2834.0</td>\n",
       "      <td>4053.0</td>\n",
       "      <td>1</td>\n",
       "      <td>0</td>\n",
       "      <td>0</td>\n",
       "      <td>1.0</td>\n",
       "      <td>2.0</td>\n",
       "      <td>3.0</td>\n",
       "      <td>9</td>\n",
       "      <td>Yes</td>\n",
       "      <td>Yes</td>\n",
       "      <td>0.063343</td>\n",
       "      <td>0.113294</td>\n",
       "      <td>533.0</td>\n",
       "      <td>5.0</td>\n",
       "      <td>12130547</td>\n",
       "      <td>0</td>\n",
       "    </tr>\n",
       "    <tr>\n",
       "      <th>3</th>\n",
       "      <td>15750.0</td>\n",
       "      <td>0.0</td>\n",
       "      <td>1.0</td>\n",
       "      <td>1.0</td>\n",
       "      <td>1.0</td>\n",
       "      <td>0.0</td>\n",
       "      <td>45000.000000</td>\n",
       "      <td>3007.350098</td>\n",
       "      <td>Alone</td>\n",
       "      <td>Service</td>\n",
       "      <td>Secondary</td>\n",
       "      <td>S</td>\n",
       "      <td>Female</td>\n",
       "      <td>CL</td>\n",
       "      <td>Home</td>\n",
       "      <td>0.008866</td>\n",
       "      <td>14536.0</td>\n",
       "      <td>3465.00</td>\n",
       "      <td>5871.0</td>\n",
       "      <td>2594.0</td>\n",
       "      <td>1</td>\n",
       "      <td>1</td>\n",
       "      <td>0</td>\n",
       "      <td>1.0</td>\n",
       "      <td>2.0</td>\n",
       "      <td>2.0</td>\n",
       "      <td>17</td>\n",
       "      <td>Yes</td>\n",
       "      <td>Yes</td>\n",
       "      <td>0.129861</td>\n",
       "      <td>0.590233</td>\n",
       "      <td>340.0</td>\n",
       "      <td>2.0</td>\n",
       "      <td>12106559</td>\n",
       "      <td>0</td>\n",
       "    </tr>\n",
       "    <tr>\n",
       "      <th>4</th>\n",
       "      <td>9000.0</td>\n",
       "      <td>0.0</td>\n",
       "      <td>0.0</td>\n",
       "      <td>0.0</td>\n",
       "      <td>0.0</td>\n",
       "      <td>0.0</td>\n",
       "      <td>22500.000000</td>\n",
       "      <td>2191.949951</td>\n",
       "      <td>Alone</td>\n",
       "      <td>Service</td>\n",
       "      <td>Secondary</td>\n",
       "      <td>S</td>\n",
       "      <td>Male</td>\n",
       "      <td>CL</td>\n",
       "      <td>Home</td>\n",
       "      <td>0.020892</td>\n",
       "      <td>15734.0</td>\n",
       "      <td>2504.00</td>\n",
       "      <td>6019.0</td>\n",
       "      <td>1191.0</td>\n",
       "      <td>1</td>\n",
       "      <td>0</td>\n",
       "      <td>0</td>\n",
       "      <td>1.0</td>\n",
       "      <td>2.0</td>\n",
       "      <td>2.0</td>\n",
       "      <td>11</td>\n",
       "      <td>Yes</td>\n",
       "      <td>Yes</td>\n",
       "      <td>0.418630</td>\n",
       "      <td>0.595456</td>\n",
       "      <td>2458.0</td>\n",
       "      <td>2.0</td>\n",
       "      <td>12186490</td>\n",
       "      <td>0</td>\n",
       "    </tr>\n",
       "  </tbody>\n",
       "</table>\n",
       "</div>"
      ],
      "text/plain": [
       "   Client_Income  Car_Owned  Bike_Owned  Active_Loan  House_Own  Child_Count  \\\n",
       "0        20250.0        1.0         0.0          1.0        1.0          0.0   \n",
       "1        13500.0        0.0         0.0          1.0        1.0          0.0   \n",
       "2        12150.0        0.0         0.0          0.0        1.0          0.0   \n",
       "3        15750.0        0.0         1.0          1.0        1.0          0.0   \n",
       "4         9000.0        0.0         0.0          0.0        0.0          0.0   \n",
       "\n",
       "   Credit_Amount  Loan_Annuity Accompany_Client Client_Income_Type  \\\n",
       "0   15282.000000   1826.550049            Alone            Service   \n",
       "1   60415.199219   3097.800049            Alone            Retired   \n",
       "2   16320.150391   1294.650024            Alone            Retired   \n",
       "3   45000.000000   3007.350098            Alone            Service   \n",
       "4   22500.000000   2191.949951            Alone            Service   \n",
       "\n",
       "  Client_Education Client_Marital_Status Client_Gender Loan_Contract_Type  \\\n",
       "0       Graduation                     M          Male                 CL   \n",
       "1        Secondary                     M          Male                 CL   \n",
       "2        Secondary                     W          Male                 CL   \n",
       "3        Secondary                     S        Female                 CL   \n",
       "4        Secondary                     S          Male                 CL   \n",
       "\n",
       "  Client_Housing_Type  Population_Region_Relative  Age_Days  Employed_Days  \\\n",
       "0                Home                    0.008575   14162.0        4129.00   \n",
       "1                Home                    0.009175   22493.0       12020.75   \n",
       "2                Home                    0.016612   20507.0       12020.75   \n",
       "3                Home                    0.008866   14536.0        3465.00   \n",
       "4                Home                    0.020892   15734.0        2504.00   \n",
       "\n",
       "   Registration_Days  ID_Days  Mobile_Tag  Homephone_Tag  Workphone_Working  \\\n",
       "0             7833.0     21.0           1              0                  1   \n",
       "1            12617.0   5280.0           1              0                  1   \n",
       "2             2834.0   4053.0           1              0                  0   \n",
       "3             5871.0   2594.0           1              1                  0   \n",
       "4             6019.0   1191.0           1              0                  0   \n",
       "\n",
       "   Client_Family_Members  Cleint_City_Rating  Application_Process_Day  \\\n",
       "0                    2.0                 2.0                      3.0   \n",
       "1                    2.0                 2.0                      4.0   \n",
       "2                    1.0                 2.0                      3.0   \n",
       "3                    1.0                 2.0                      2.0   \n",
       "4                    1.0                 2.0                      2.0   \n",
       "\n",
       "   Application_Process_Hour Client_Permanent_Match_Tag  \\\n",
       "0                        10                        Yes   \n",
       "1                        15                        Yes   \n",
       "2                         9                        Yes   \n",
       "3                        17                        Yes   \n",
       "4                        11                        Yes   \n",
       "\n",
       "  Client_Contact_Work_Tag  Score_Source_2  Score_Source_3  Phone_Change  \\\n",
       "0                     Yes        0.215068        0.511202         755.0   \n",
       "1                     Yes        0.657508        0.549596        1687.0   \n",
       "2                     Yes        0.063343        0.113294         533.0   \n",
       "3                     Yes        0.129861        0.590233         340.0   \n",
       "4                     Yes        0.418630        0.595456        2458.0   \n",
       "\n",
       "   Credit_Bureau        ID Default  \n",
       "0            1.0  12138936       0  \n",
       "1            4.0  12215264       0  \n",
       "2            5.0  12130547       0  \n",
       "3            2.0  12106559       0  \n",
       "4            2.0  12186490       0  "
      ]
     },
     "execution_count": 3,
     "metadata": {},
     "output_type": "execute_result"
    }
   ],
   "source": [
    "data = df.copy(deep=True)\n",
    "data.head()"
   ]
  },
  {
   "cell_type": "code",
   "execution_count": 4,
   "metadata": {},
   "outputs": [],
   "source": [
    "data['ID'] = data['ID'].astype('int')"
   ]
  },
  {
   "cell_type": "code",
   "execution_count": 46,
   "metadata": {},
   "outputs": [],
   "source": [
    "data.rename(columns={'Cleint_City_Rating': 'Client_City_Ranking'}, inplace=True)"
   ]
  },
  {
   "cell_type": "code",
   "execution_count": 52,
   "metadata": {},
   "outputs": [],
   "source": [
    "imp_cols = [ 'ID','Client_Income', 'Car_Owned', 'Active_Loan', 'House_Own',\n",
    "        'Credit_Amount', 'Loan_Annuity', \n",
    "       'Client_Income_Type', 'Client_Education', \n",
    "       'Client_Gender', 'Loan_Contract_Type', 'Client_Housing_Type',\n",
    "       'Employed_Days', 'Client_City_Ranking',\n",
    "       'Client_Permanent_Match_Tag', \n",
    "       'Score_Source_2', 'Score_Source_3', 'Phone_Change', 'Credit_Bureau', 'Default']\n",
    "#  'Age_Days', 'ID_Days'"
   ]
  },
  {
   "cell_type": "code",
   "execution_count": 53,
   "metadata": {},
   "outputs": [
    {
     "data": {
      "text/plain": [
       "(121799, 20)"
      ]
     },
     "execution_count": 53,
     "metadata": {},
     "output_type": "execute_result"
    }
   ],
   "source": [
    "imp_data = data[imp_cols]\n",
    "imp_data.shape"
   ]
  },
  {
   "cell_type": "markdown",
   "metadata": {},
   "source": [
    "### Undersampling"
   ]
  },
  {
   "cell_type": "code",
   "execution_count": 54,
   "metadata": {},
   "outputs": [
    {
     "name": "stdout",
     "output_type": "stream",
     "text": [
      "44783\n"
     ]
    }
   ],
   "source": [
    "# Step 1: Separate majority and minority classes\n",
    "data_majority = imp_data[imp_data['Default'] == '0']\n",
    "data_minority = imp_data[imp_data['Default'] == '1']\n",
    "\n",
    "# Step 2: Define the percentage for undersampling (e.g., 40%)\n",
    "undersample_percent = 0.4  # Retain 40% of majority class\n",
    "\n",
    "# Calculate the number of records to keep from the majority class\n",
    "n_majority_to_keep = int(len(data_majority) * undersample_percent)\n",
    "print(n_majority_to_keep)"
   ]
  },
  {
   "cell_type": "code",
   "execution_count": 55,
   "metadata": {},
   "outputs": [
    {
     "name": "stdout",
     "output_type": "stream",
     "text": [
      "Class distribution after percentage-based undersampling:\n",
      " Default\n",
      "0    44783\n",
      "1     9841\n",
      "Name: count, dtype: int64\n"
     ]
    }
   ],
   "source": [
    "\n",
    "# Step 3: Downsample the majority class\n",
    "data_majority_downsampled = resample(\n",
    "    data_majority,\n",
    "    replace=False,  # Sample without replacement\n",
    "    n_samples=n_majority_to_keep,  # Retain only the specified percentage\n",
    "    random_state=42  # For reproducibility\n",
    ")\n",
    "\n",
    "# Step 4: Combine the downsampled majority class with the minority class\n",
    "data_balanced = pd.concat([data_majority_downsampled, data_minority])\n",
    "\n",
    "# Step 5: Shuffle the combined dataset\n",
    "data_balanced = data_balanced.sample(frac=1, random_state=42).reset_index(drop=True)\n",
    "\n",
    "# Step 6: Check the new class distribution\n",
    "print(\"Class distribution after percentage-based undersampling:\\n\", data_balanced['Default'].value_counts())"
   ]
  },
  {
   "cell_type": "code",
   "execution_count": 56,
   "metadata": {},
   "outputs": [],
   "source": [
    "# Separate features and target\n",
    "X = data_balanced.drop(columns=['Default'])\n",
    "y = data_balanced['Default'].astype('int')"
   ]
  },
  {
   "cell_type": "code",
   "execution_count": 57,
   "metadata": {},
   "outputs": [
    {
     "name": "stdout",
     "output_type": "stream",
     "text": [
      "X_train shape: (43699, 28)\n",
      "X_test shape: (10925, 28)\n",
      "y_train: (43699,)\n",
      "y_test: (10925,)\n"
     ]
    }
   ],
   "source": [
    "# Step 2: Encode categorical variables using One-Hot Encoding\n",
    "X = pd.get_dummies(X, drop_first=True)  # Convert categorical features to numerical\n",
    "\n",
    "# Step 3: Train-Test Split (80-20 ratio)\n",
    "X_train, X_test, y_train, y_test = train_test_split(X, y, test_size=0.2, random_state=42, stratify=y)\n",
    "print(\"X_train shape:\", X_train.shape)\n",
    "print(\"X_test shape:\", X_test.shape)\n",
    "print(\"y_train:\", y_train.shape)\n",
    "print(\"y_test:\", y_test.shape)"
   ]
  },
  {
   "cell_type": "code",
   "execution_count": 58,
   "metadata": {},
   "outputs": [],
   "source": [
    "# Step 3: Store 'ID' separately for mapping after predictions\n",
    "ID_train = X_train['ID']  # Store train IDs\n",
    "ID_test = X_test['ID']  # Store test IDs\n",
    "\n",
    "# Step 4: Drop 'ID' from feature set before transformations & model training\n",
    "X_train = X_train.drop(columns=['ID'])\n",
    "X_test = X_test.drop(columns=['ID'])"
   ]
  },
  {
   "cell_type": "code",
   "execution_count": 59,
   "metadata": {},
   "outputs": [],
   "source": [
    "# Step 4: Standardize numerical features (important for Logistic Regression)\n",
    "scaler = StandardScaler()\n",
    "X_train_scaled = scaler.fit_transform(X_train)\n",
    "X_test_scaled = scaler.transform(X_test)"
   ]
  },
  {
   "cell_type": "code",
   "execution_count": 60,
   "metadata": {},
   "outputs": [],
   "source": [
    "# Step 6: Train Logistic Regression Model\n",
    "random.seed(42)\n",
    "\n",
    "model = LogisticRegression(penalty='l1', C=1.0, max_iter=500, class_weight='balanced', solver='liblinear', random_state=42)\n",
    "\n",
    "# model = XGBClassifier(\n",
    "#     objective=\"binary:logistic\",  # Change to \"multi:softmax\" for multi-class\n",
    "#     eval_metric=\"auc\",\n",
    "#     booster=\"gbtree\",\n",
    "#     max_depth=5,               # Controls the depth of each tree (default 6)\n",
    "#     learning_rate=0.01,        # Step size shrinkage to prevent overfitting (default 0.3)\n",
    "#     n_estimators=300,          # Number of boosting rounds (default 100)\n",
    "#     subsample=0.8,             # Fraction of samples used per boosting round (default 1.0)\n",
    "#     colsample_bytree=0.8,      # Fraction of features used per tree (default 1.0)\n",
    "#     reg_alpha=0.1,             # L1 regularization (default 0)\n",
    "#     reg_lambda=1,              # L2 regularization (default 1)\n",
    "#     gamma=0,                   # Minimum loss reduction to make a split (default 0)\n",
    "#     use_label_encoder=False    # Avoid warning from XGBoost\n",
    "# )\n",
    "\n",
    "model.fit(X_train_scaled, y_train)\n",
    "\n",
    "# Step 7: Make Predictions\n",
    "y_pred = model.predict(X_test_scaled)\n",
    "# y_pred = y_pred.astype(int)"
   ]
  },
  {
   "cell_type": "code",
   "execution_count": 61,
   "metadata": {},
   "outputs": [],
   "source": [
    "y_test = y_test.astype(int)\n",
    "y_pred = y_pred.astype(int)\n",
    "# Step 8: Evaluate Model Performance\n",
    "accuracy = accuracy_score(y_test, y_pred)\n",
    "classification_rep = classification_report(y_test, y_pred)\n",
    "conf_matrix = confusion_matrix(y_test, y_pred)\n"
   ]
  },
  {
   "cell_type": "code",
   "execution_count": 62,
   "metadata": {},
   "outputs": [
    {
     "data": {
      "image/png": "[encoded data removed]",
      "text/plain": [
       "<Figure size 600x500 with 1 Axes>"
      ]
     },
     "metadata": {},
     "output_type": "display_data"
    }
   ],
   "source": [
    "# Plot Confusion Matrix\n",
    "plt.figure(figsize=(6, 5))\n",
    "sns.heatmap(conf_matrix, annot=True, fmt=\"d\", cmap=\"Blues\", linewidths=2, cbar=False, xticklabels=[\"No Default (0)\", \"Default (1)\"], yticklabels=[\"No Default (0)\", \"Default (1)\"])\n",
    "\n",
    "# Formatting\n",
    "plt.xlabel(\"Predicted Labels\")\n",
    "plt.ylabel(\"True Labels\")\n",
    "plt.title(\"Confusion Matrix\")\n",
    "plt.show()"
   ]
  },
  {
   "cell_type": "code",
   "execution_count": 63,
   "metadata": {},
   "outputs": [
    {
     "name": "stdout",
     "output_type": "stream",
     "text": [
      "Model Accuracy: 0.6764\n",
      "\n",
      "Classification Report:\n",
      "               precision    recall  f1-score   support\n",
      "\n",
      "           0       0.90      0.68      0.78      8957\n",
      "           1       0.31      0.66      0.42      1968\n",
      "\n",
      "    accuracy                           0.68     10925\n",
      "   macro avg       0.61      0.67      0.60     10925\n",
      "weighted avg       0.79      0.68      0.71     10925\n",
      "\n",
      "\n",
      "Confusion Matrix:\n",
      " [[6098 2859]\n",
      " [ 676 1292]]\n"
     ]
    }
   ],
   "source": [
    "# Step 9: Store Predictions with 'ID' for Mapping\n",
    "results_df = pd.DataFrame({'ID': ID_test.values, 'Actual': y_test.values, 'Predicted': y_pred})\n",
    "\n",
    "# Display Results\n",
    "print(f\"Model Accuracy: {accuracy:.4f}\")\n",
    "print(\"\\nClassification Report:\\n\", classification_rep)\n",
    "print(\"\\nConfusion Matrix:\\n\", conf_matrix)"
   ]
  },
  {
   "cell_type": "code",
   "execution_count": 64,
   "metadata": {},
   "outputs": [
    {
     "name": "stdout",
     "output_type": "stream",
     "text": [
      "Precision: 0.3113\n",
      "Recall: 0.6565\n",
      "F1 Score: 0.4223\n",
      "ROC-AUC Score: 0.7268\n"
     ]
    }
   ],
   "source": [
    "y_test = y_test.astype(int)\n",
    "y_pred = y_pred.astype(int)\n",
    "\n",
    "# Compute Metrics\n",
    "precision = precision_score(y_test, y_pred)\n",
    "recall = recall_score(y_test, y_pred)\n",
    "f1 = f1_score(y_test, y_pred)\n",
    "roc_auc = roc_auc_score(y_test, model.predict_proba(X_test_scaled)[:, 1])  # Using probability scores\n",
    "\n",
    "# Print Evaluation Metrics\n",
    "print(f\"Precision: {precision:.4f}\")\n",
    "print(f\"Recall: {recall:.4f}\")\n",
    "print(f\"F1 Score: {f1:.4f}\")\n",
    "print(f\"ROC-AUC Score: {roc_auc:.4f}\")"
   ]
  },
  {
   "cell_type": "code",
   "execution_count": 65,
   "metadata": {},
   "outputs": [
    {
     "data": {
      "image/png": "[encoded data removed]",
      "text/plain": [
       "<Figure size 800x600 with 1 Axes>"
      ]
     },
     "metadata": {},
     "output_type": "display_data"
    }
   ],
   "source": [
    "# Compute ROC Curve\n",
    "fpr, tpr, _ = roc_curve(y_test, model.predict_proba(X_test_scaled)[:, 1])\n",
    "roc_auc = auc(fpr, tpr)\n",
    "\n",
    "# Plot ROC Curve\n",
    "plt.figure(figsize=(8, 6))\n",
    "plt.plot(fpr, tpr, color='blue', label=f'ROC Curve (AUC = {roc_auc:.4f})')\n",
    "plt.plot([0, 1], [0, 1], color='gray', linestyle='--')  # Random model\n",
    "plt.xlim([0.0, 1.0])\n",
    "plt.ylim([0.0, 1.05])\n",
    "plt.xlabel('False Positive Rate')\n",
    "plt.ylabel('True Positive Rate')\n",
    "plt.title('Receiver Operating Characteristic (ROC) Curve')\n",
    "plt.legend(loc='lower right')\n",
    "plt.show()"
   ]
  },
  {
   "cell_type": "code",
   "execution_count": 66,
   "metadata": {},
   "outputs": [],
   "source": [
    "feature_importance = pd.DataFrame({\n",
    "    'Feature': X_train.columns,\n",
    "    'Importance': abs(model.coef_[0])  # Absolute values of coefficients\n",
    "}).sort_values(by='Importance', ascending=False)"
   ]
  },
  {
   "cell_type": "code",
   "execution_count": 67,
   "metadata": {},
   "outputs": [
    {
     "data": {
      "text/plain": [
       "(27, 2)"
      ]
     },
     "execution_count": 67,
     "metadata": {},
     "output_type": "execute_result"
    }
   ],
   "source": [
    "feature_importance.shape"
   ]
  },
  {
   "cell_type": "code",
   "execution_count": 69,
   "metadata": {},
   "outputs": [
    {
     "data": {
      "text/html": [
       "<div>\n",
       "<style scoped>\n",
       "    .dataframe tbody tr th:only-of-type {\n",
       "        vertical-align: middle;\n",
       "    }\n",
       "\n",
       "    .dataframe tbody tr th {\n",
       "        vertical-align: top;\n",
       "    }\n",
       "\n",
       "    .dataframe thead th {\n",
       "        text-align: right;\n",
       "    }\n",
       "</style>\n",
       "<table border=\"1\" class=\"dataframe\">\n",
       "  <thead>\n",
       "    <tr style=\"text-align: right;\">\n",
       "      <th></th>\n",
       "      <th>Feature</th>\n",
       "      <th>Importance</th>\n",
       "    </tr>\n",
       "  </thead>\n",
       "  <tbody>\n",
       "    <tr>\n",
       "      <th>9</th>\n",
       "      <td>Score_Source_3</td>\n",
       "      <td>0.496878</td>\n",
       "    </tr>\n",
       "    <tr>\n",
       "      <th>8</th>\n",
       "      <td>Score_Source_2</td>\n",
       "      <td>0.397682</td>\n",
       "    </tr>\n",
       "    <tr>\n",
       "      <th>6</th>\n",
       "      <td>Employed_Days</td>\n",
       "      <td>0.314324</td>\n",
       "    </tr>\n",
       "    <tr>\n",
       "      <th>18</th>\n",
       "      <td>Client_Education_Secondary</td>\n",
       "      <td>0.205921</td>\n",
       "    </tr>\n",
       "    <tr>\n",
       "      <th>19</th>\n",
       "      <td>Client_Gender_Male</td>\n",
       "      <td>0.179856</td>\n",
       "    </tr>\n",
       "    <tr>\n",
       "      <th>14</th>\n",
       "      <td>Client_Income_Type_Retired</td>\n",
       "      <td>0.144307</td>\n",
       "    </tr>\n",
       "    <tr>\n",
       "      <th>1</th>\n",
       "      <td>Car_Owned</td>\n",
       "      <td>0.121767</td>\n",
       "    </tr>\n",
       "    <tr>\n",
       "      <th>5</th>\n",
       "      <td>Loan_Annuity</td>\n",
       "      <td>0.121540</td>\n",
       "    </tr>\n",
       "    <tr>\n",
       "      <th>7</th>\n",
       "      <td>Client_City_Ranking</td>\n",
       "      <td>0.096482</td>\n",
       "    </tr>\n",
       "    <tr>\n",
       "      <th>20</th>\n",
       "      <td>Loan_Contract_Type_RL</td>\n",
       "      <td>0.095279</td>\n",
       "    </tr>\n",
       "  </tbody>\n",
       "</table>\n",
       "</div>"
      ],
      "text/plain": [
       "                       Feature  Importance\n",
       "9               Score_Source_3    0.496878\n",
       "8               Score_Source_2    0.397682\n",
       "6                Employed_Days    0.314324\n",
       "18  Client_Education_Secondary    0.205921\n",
       "19          Client_Gender_Male    0.179856\n",
       "14  Client_Income_Type_Retired    0.144307\n",
       "1                    Car_Owned    0.121767\n",
       "5                 Loan_Annuity    0.121540\n",
       "7          Client_City_Ranking    0.096482\n",
       "20       Loan_Contract_Type_RL    0.095279"
      ]
     },
     "execution_count": 69,
     "metadata": {},
     "output_type": "execute_result"
    }
   ],
   "source": [
    "feature_importance.head(10)"
   ]
  },
  {
   "cell_type": "code",
   "execution_count": 70,
   "metadata": {},
   "outputs": [
    {
     "name": "stdout",
     "output_type": "stream",
     "text": [
      "✅ Model saved as 'model.pkl'\n"
     ]
    }
   ],
   "source": [
    "import pickle\n",
    "\n",
    "# Example: Assume `model` is your trained model\n",
    "with open(\"../model/model.pkl\", \"wb\") as file:\n",
    "    pickle.dump(model, file)\n",
    "\n",
    "print(\"✅ Model saved as 'model.pkl'\")\n"
   ]
  },
  {
   "cell_type": "code",
   "execution_count": 71,
   "metadata": {},
   "outputs": [
    {
     "data": {
      "text/plain": [
       "Index(['ID', 'Client_Income', 'Car_Owned', 'Active_Loan', 'House_Own',\n",
       "       'Credit_Amount', 'Loan_Annuity', 'Client_Income_Type',\n",
       "       'Client_Education', 'Client_Gender', 'Loan_Contract_Type',\n",
       "       'Client_Housing_Type', 'Employed_Days', 'Client_City_Ranking',\n",
       "       'Client_Permanent_Match_Tag', 'Score_Source_2', 'Score_Source_3',\n",
       "       'Phone_Change', 'Credit_Bureau', 'Default'],\n",
       "      dtype='object')"
      ]
     },
     "execution_count": 71,
     "metadata": {},
     "output_type": "execute_result"
    }
   ],
   "source": [
    "imp_data.columns"
   ]
  },
  {
   "cell_type": "code",
   "execution_count": 72,
   "metadata": {},
   "outputs": [
    {
     "data": {
      "text/plain": [
       "ID                              int32\n",
       "Client_Income                 float64\n",
       "Car_Owned                     float64\n",
       "Active_Loan                   float64\n",
       "House_Own                     float64\n",
       "Credit_Amount                 float64\n",
       "Loan_Annuity                  float64\n",
       "Client_Income_Type             object\n",
       "Client_Education               object\n",
       "Client_Gender                  object\n",
       "Loan_Contract_Type             object\n",
       "Client_Housing_Type            object\n",
       "Employed_Days                 float64\n",
       "Client_City_Ranking           float64\n",
       "Client_Permanent_Match_Tag     object\n",
       "Score_Source_2                float64\n",
       "Score_Source_3                float64\n",
       "Phone_Change                  float64\n",
       "Credit_Bureau                 float64\n",
       "Default                        object\n",
       "dtype: object"
      ]
     },
     "execution_count": 72,
     "metadata": {},
     "output_type": "execute_result"
    }
   ],
   "source": [
    "imp_data.dtypes"
   ]
  },
  {
   "cell_type": "code",
   "execution_count": 73,
   "metadata": {},
   "outputs": [
    {
     "data": {
      "text/plain": [
       "Index(['Client_Income', 'Car_Owned', 'Active_Loan', 'House_Own',\n",
       "       'Credit_Amount', 'Loan_Annuity', 'Employed_Days', 'Client_City_Ranking',\n",
       "       'Score_Source_2', 'Score_Source_3', 'Phone_Change', 'Credit_Bureau',\n",
       "       'Client_Income_Type_Govt Job', 'Client_Income_Type_Other',\n",
       "       'Client_Income_Type_Retired', 'Client_Income_Type_Service',\n",
       "       'Client_Education_Graduation dropout',\n",
       "       'Client_Education_Junior secondary', 'Client_Education_Secondary',\n",
       "       'Client_Gender_Male', 'Loan_Contract_Type_RL',\n",
       "       'Client_Housing_Type_Home', 'Client_Housing_Type_Municipal',\n",
       "       'Client_Housing_Type_Office', 'Client_Housing_Type_Rental',\n",
       "       'Client_Housing_Type_Shared', 'Client_Permanent_Match_Tag_Yes'],\n",
       "      dtype='object')"
      ]
     },
     "execution_count": 73,
     "metadata": {},
     "output_type": "execute_result"
    }
   ],
   "source": [
    "X_train.columns"
   ]
  },
  {
   "cell_type": "code",
   "execution_count": null,
   "metadata": {},
   "outputs": [],
   "source": []
  }
 ],
 "metadata": {
  "kernelspec": {
   "display_name": ".venv",
   "language": "python",
   "name": "python3"
  },
  "language_info": {
   "codemirror_mode": {
    "name": "ipython",
    "version": 3
   },
   "file_extension": ".py",
   "mimetype": "text/x-python",
   "name": "python",
   "nbconvert_exporter": "python",
   "pygments_lexer": "ipython3",
   "version": "3.8.10"
  }
 },
 "nbformat": 4,
 "nbformat_minor": 2
}
